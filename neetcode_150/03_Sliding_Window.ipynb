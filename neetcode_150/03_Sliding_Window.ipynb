{
 "cells": [
  {
   "cell_type": "markdown",
   "metadata": {},
   "source": [
    "# **Sliding Window**   \n",
    "https://neetcode.io/practice"
   ]
  },
  {
   "cell_type": "markdown",
   "metadata": {},
   "source": [
    "**Longest Substring Without Repeating Characters**   \n",
    "Medium"
   ]
  },
  {
   "cell_type": "code",
   "execution_count": null,
   "metadata": {},
   "outputs": [],
   "source": [
    "class Solution:\n",
    "    def lengthOfLongestSubstring(self, s: str) -> int:\n",
    "        temp = ''        # set : 중복X, 조회O but can't use for loop\n",
    "        result = 0          # 길이 기록하기\n",
    "        \n",
    "        for ind in range(len(s)):\n",
    "            if s[ind] in temp :\n",
    "                temp = temp[temp.index(s[ind])+1:] + s[ind]\n",
    "            else :\n",
    "                temp +=s[ind]\n",
    "                result = max(result,len(temp))      # 현재 temp 길이 기록\n",
    "    \n",
    "        return result"
   ]
  },
  {
   "cell_type": "markdown",
   "metadata": {},
   "source": [
    "solution"
   ]
  },
  {
   "cell_type": "code",
   "execution_count": null,
   "metadata": {},
   "outputs": [],
   "source": [
    "class Solution:\n",
    "    def lengthOfLongestSubstring(self, s: str) -> int:\n",
    "        temp = set()       # set : 중복X, 조회O \n",
    "        result = 0          # 길이 기록하기\n",
    "        p1 = 0              # index\n",
    "        \n",
    "        for ind in range(len(s)):\n",
    "            while s[ind] in temp :\n",
    "                temp.remove(s[p1])          # p1 indx부터 조회하며 삭제\n",
    "                p1 +=1\n",
    "            temp.add(s[ind])             # 값 or 삭제된 값 input\n",
    "            result = max(result, ind-p1 +1)     # ind 현재 위치 - p1 삭제된 값 위치 + 1\n",
    "    \n",
    "        return result"
   ]
  }
 ],
 "metadata": {
  "kernelspec": {
   "display_name": "Python 3.10.2 64-bit",
   "language": "python",
   "name": "python3"
  },
  "language_info": {
   "name": "python",
   "version": "3.10.2"
  },
  "orig_nbformat": 4,
  "vscode": {
   "interpreter": {
    "hash": "52634da84371cba311ea128a5ea7cdc41ff074b781779e754b270ff9f8153cee"
   }
  }
 },
 "nbformat": 4,
 "nbformat_minor": 2
}
