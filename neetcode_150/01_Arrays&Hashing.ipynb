{
 "cells": [
  {
   "cell_type": "markdown",
   "metadata": {},
   "source": [
    "# **Arrays&Hashing**   \n",
    "https://neetcode.io/practice"
   ]
  },
  {
   "cell_type": "code",
   "execution_count": 1,
   "metadata": {},
   "outputs": [],
   "source": [
    "from typing import List"
   ]
  },
  {
   "cell_type": "markdown",
   "metadata": {},
   "source": [
    "**217. Contains Duplicate**   \n",
    "Easy"
   ]
  },
  {
   "cell_type": "code",
   "execution_count": 2,
   "metadata": {},
   "outputs": [],
   "source": [
    "# ver1\n",
    "from collections import Counter\n",
    "class Solution:\n",
    "    def containsDuplicate(self, nums: List[int]) -> bool:\n",
    "        return False if Counter(nums).most_common(1)[0][1] == 1 else True"
   ]
  },
  {
   "cell_type": "code",
   "execution_count": 3,
   "metadata": {},
   "outputs": [],
   "source": [
    "# ver2\n",
    "class Solution:\n",
    "    def containsDuplicate(self, nums: List[int]) -> bool:\n",
    "        return False if len(set(nums)) == len(nums) else True"
   ]
  },
  {
   "cell_type": "markdown",
   "metadata": {},
   "source": [
    "solution code"
   ]
  },
  {
   "cell_type": "code",
   "execution_count": 4,
   "metadata": {},
   "outputs": [],
   "source": [
    "class Solution:\n",
    "    def containsDuplicate(self, nums: List[int]) -> bool:\n",
    "        result = set()\n",
    "        \n",
    "        for num in nums :\n",
    "            if num in result :\n",
    "                return True\n",
    "            result.add(num)\n",
    "        return False"
   ]
  },
  {
   "cell_type": "markdown",
   "metadata": {},
   "source": [
    "**242. Valid Anagram**   \n",
    "Easy"
   ]
  },
  {
   "cell_type": "code",
   "execution_count": 5,
   "metadata": {},
   "outputs": [],
   "source": [
    "# ver1\n",
    "from collections import Counter\n",
    "class Solution:\n",
    "    def isAnagram(self, s: str, t: str) -> bool:\n",
    "        return Counter(s) == Counter(t)"
   ]
  },
  {
   "cell_type": "markdown",
   "metadata": {},
   "source": [
    "solution code"
   ]
  },
  {
   "cell_type": "code",
   "execution_count": 6,
   "metadata": {},
   "outputs": [],
   "source": [
    "class Solution:\n",
    "    def isAnagram(self, s: str, t: str) -> bool:\n",
    "        if len(s) != len(t):\n",
    "            return False\n",
    "\n",
    "        countS, countT = {}, {}\n",
    "\n",
    "        for i in range(len(s)):\n",
    "            countS[s[i]] = 1 + countS.get(s[i], 0)      # dictionary.get(key가 있으면 value값 반환, key 없으면 해당 값 반환)\n",
    "            countT[t[i]] = 1 + countT.get(t[i], 0)      # countT에 t[i] key가 있으면 반환, 없으면 0 반환\n",
    "        return countS == countT"
   ]
  },
  {
   "cell_type": "markdown",
   "metadata": {},
   "source": [
    "**1. Two Sum**   \n",
    "Easy"
   ]
  },
  {
   "cell_type": "markdown",
   "metadata": {},
   "source": [
    "solution code"
   ]
  },
  {
   "cell_type": "code",
   "execution_count": 7,
   "metadata": {},
   "outputs": [],
   "source": [
    "class Solution:\n",
    "    def twoSum(self, nums: List[int], target: int) -> List[int]:\n",
    "        prevMap = {}  # val -> index\n",
    "\n",
    "        for ind, num in enumerate(nums):\n",
    "            diff = target - num\n",
    "            if diff in prevMap:\n",
    "                return [prevMap[diff], ind]\n",
    "            prevMap[num] = ind"
   ]
  },
  {
   "cell_type": "markdown",
   "metadata": {},
   "source": [
    "---"
   ]
  },
  {
   "cell_type": "markdown",
   "metadata": {},
   "source": [
    "**49. Group Anagrams**   \n",
    "Medium"
   ]
  },
  {
   "cell_type": "code",
   "execution_count": 8,
   "metadata": {},
   "outputs": [],
   "source": [
    "class Solution:\n",
    "    def groupAnagrams(self, strs: List[str]) -> List[List[str]]:\n",
    "        result = collections.defaultdict(list)\n",
    "        for alph in strs:\n",
    "            result[''.join(sorted(alph))].append(alph)\n",
    "        return result.values()"
   ]
  },
  {
   "cell_type": "markdown",
   "metadata": {},
   "source": [
    "- counter 함수를 사용해서 dictionary의 key값으로 활용하려고 했음 > 실패\n",
    "- dictionary의 key값으로 int,str,tuple 가능\n",
    "- 딕셔너리의 Key로 쓸 수 있느냐 없느냐는 Key가 변하는(mutable) 값인지 변하지 않는(immutable) 값 : https://wikidocs.net/16#_7"
   ]
  },
  {
   "cell_type": "markdown",
   "metadata": {},
   "source": [
    "**347. Top K Frequent Elements**    \n",
    "Medium\n"
   ]
  },
  {
   "cell_type": "code",
   "execution_count": 9,
   "metadata": {},
   "outputs": [],
   "source": [
    "class Solution:\n",
    "    def topKFrequent(self, nums: List[int], k: int) -> List[int]:\n",
    "        return [num for num,f in Counter(nums).most_common(k)]"
   ]
  },
  {
   "cell_type": "markdown",
   "metadata": {},
   "source": [
    "solution"
   ]
  },
  {
   "cell_type": "code",
   "execution_count": 10,
   "metadata": {},
   "outputs": [],
   "source": [
    "\n",
    "class Solution:\n",
    "    def topKFrequent(self, nums: List[int], k: int) -> List[int]:\n",
    "        count = {}\n",
    "        freq = [[] for i in range(len(nums) + 1)]\n",
    "\n",
    "        for n in nums:\n",
    "            count[n] = 1 + count.get(n, 0)\n",
    "        for n, c in count.items():\n",
    "            freq[c].append(n)\n",
    "\n",
    "        res = []\n",
    "        for i in range(len(freq) - 1, 0, -1):\n",
    "            for n in freq[i]:\n",
    "                res.append(n)\n",
    "                if len(res) == k:\n",
    "                    return res\n",
    "\n",
    "        # O(n)"
   ]
  },
  {
   "cell_type": "markdown",
   "metadata": {},
   "source": [
    "**238. Product of Array Except Self**   \n",
    "Medium"
   ]
  },
  {
   "cell_type": "code",
   "execution_count": 11,
   "metadata": {},
   "outputs": [],
   "source": [
    "class Solution:\n",
    "    def productExceptSelf(self, nums: List[int]) -> List[int]:\n",
    "        result =[]\n",
    "        \n",
    "        # step1 :\n",
    "        pre =1\n",
    "        for i in range(len(nums)):\n",
    "            result.append(pre)\n",
    "            pre *=nums[i]\n",
    "        \n",
    "        # step2 :\n",
    "        p = 1\n",
    "        for i in range(len(nums))[::-1]:\n",
    "            result[i] *= p\n",
    "            p *=nums[i]\n",
    "            \n",
    "        return result"
   ]
  },
  {
   "cell_type": "markdown",
   "metadata": {},
   "source": [
    "solution review"
   ]
  },
  {
   "cell_type": "code",
   "execution_count": 15,
   "metadata": {},
   "outputs": [],
   "source": [
    "\n",
    "# if nums = [a,b,c,d]일때,\n",
    "# step1 : \n",
    "# 첫번째 요소는 1, 그다음 요소는 1\\*a, 순으로 곱셈값이 넣어짐.\n",
    "# result = [1, 1*a, 1\\*a\\*b, 1\\*a\\*b\\*c]\n",
    "\n",
    "# step2 :\n",
    "# result를 거꾸로 시작하여 p에는 현재요소를 넣고 다음 시퀀스에서 곱하도록 진행.\n",
    "#     result[3] = (1\\*a\\*b\\*c)*1\n",
    "#     p = d                           현재 위치 d : d를 제외하고 모두 곱셈\n",
    "\n",
    "#     result[2] = (1\\*a\\*b)*d         현재 위치 c : c를 제외하고 모두 곱셈\n",
    "#     p = c\n",
    "    \n",
    "# '''"
   ]
  },
  {
   "cell_type": "markdown",
   "metadata": {},
   "source": [
    "**36. Valid Sudoku**   \n",
    "Medium"
   ]
  },
  {
   "cell_type": "code",
   "execution_count": null,
   "metadata": {},
   "outputs": [],
   "source": []
  },
  {
   "cell_type": "markdown",
   "metadata": {},
   "source": [
    "**128. Longest Consecutive Sequence**   \n",
    "Medium"
   ]
  },
  {
   "cell_type": "code",
   "execution_count": 13,
   "metadata": {},
   "outputs": [],
   "source": [
    "class Solution:\n",
    "    def longestConsecutive(self, nums: List[int]) -> int:\n",
    "        numSet = set(nums)\n",
    "        longest = 0\n",
    "\n",
    "        for n in nums:\n",
    "            # check if its the start of a sequence\n",
    "            if (n - 1) not in numSet:\n",
    "                length = 1\n",
    "                while (n + length) in numSet:\n",
    "                    length += 1\n",
    "                longest = max(length, longest)\n",
    "        return longest"
   ]
  },
  {
   "cell_type": "code",
   "execution_count": 14,
   "metadata": {},
   "outputs": [],
   "source": [
    "# set은 순서가 없다.\n",
    "# Q. for문 O(n), while O(n) ?!\n",
    "# >> x in set() 연산의 평균 시간 복잡도 : O(1)\n",
    "# >> 해시 테이블로 구현되어 있기 때문에, 해당 값을 해시 함수에 넣어서 인덱스에 접근"
   ]
  }
 ],
 "metadata": {
  "kernelspec": {
   "display_name": "Python 3.10.2 64-bit",
   "language": "python",
   "name": "python3"
  },
  "language_info": {
   "codemirror_mode": {
    "name": "ipython",
    "version": 3
   },
   "file_extension": ".py",
   "mimetype": "text/x-python",
   "name": "python",
   "nbconvert_exporter": "python",
   "pygments_lexer": "ipython3",
   "version": "3.10.2"
  },
  "orig_nbformat": 4,
  "vscode": {
   "interpreter": {
    "hash": "52634da84371cba311ea128a5ea7cdc41ff074b781779e754b270ff9f8153cee"
   }
  }
 },
 "nbformat": 4,
 "nbformat_minor": 2
}
