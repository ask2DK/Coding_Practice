{
 "cells": [
  {
   "cell_type": "markdown",
   "metadata": {},
   "source": [
    "# **Two Pointers**   \n",
    "https://neetcode.io/practice"
   ]
  },
  {
   "cell_type": "markdown",
   "metadata": {},
   "source": [
    "**3Sum**   \n",
    "Medium"
   ]
  },
  {
   "cell_type": "code",
   "execution_count": null,
   "metadata": {},
   "outputs": [],
   "source": [
    "from collections import deque\n",
    "class Solution:\n",
    "    def threeSum(self, nums: List[int]) -> List[List[int]]:\n",
    "        \n",
    "        result = set()\n",
    "        \n",
    "        p1,p2 = 0,3\n",
    "        temp = deque(nums[p1:p2])\n",
    "        \n",
    "        while temp :\n",
    "            if not sum(temp) :\n",
    "                result.add(temp)\n",
    "                p1 +=1\n",
    "                p2 +=1\n",
    "                \n",
    "            temp.pop()          # 뒤에 요소 pop     p1 1, p2 4\n",
    "            temp.append(nums[p2])\n",
    "            p2+=1\n",
    "            \n",
    "            if p2 >= len(nums):\n",
    "                p2 = p1+2\n",
    "                temp = nums[p1:p2+1]\n",
    "        \n",
    "        return result"
   ]
  },
  {
   "cell_type": "markdown",
   "metadata": {},
   "source": [
    "solution"
   ]
  },
  {
   "cell_type": "code",
   "execution_count": null,
   "metadata": {},
   "outputs": [],
   "source": [
    "from collections import deque\n",
    "class Solution:\n",
    "    def threeSum(self, nums: List[int]) -> List[List[int]]:\n",
    "        results = []\n",
    "        nums.sort()\n",
    "\n",
    "        for i in range(len(nums) - 2):\n",
    "            left, right = i + 1, len(nums) - 1\n",
    "\n",
    "            if i > 0 and nums[i] == nums[i - 1]:\n",
    "                continue\n",
    "\n",
    "            while left < right:\n",
    "                sum = nums[i] + nums[left] + nums[right]\n",
    "\n",
    "                if sum > 0:\n",
    "                    right -= 1\n",
    "                elif sum < 0:\n",
    "                    left += 1\n",
    "                else:\n",
    "                    results.append([nums[i], nums[left], nums[right]])\n",
    "\n",
    "                    # 중복 제거\n",
    "                    while left < right and nums[left] == nums[left + 1]:\n",
    "                        left += 1\n",
    "                    while left < right and nums[right] == nums[right - 1]:\n",
    "                        right -= 1\n",
    "\n",
    "                    left += 1\n",
    "                    right -= 1\n",
    "\n",
    "        return results"
   ]
  },
  {
   "cell_type": "markdown",
   "metadata": {},
   "source": [
    "**Container With Most Water**   \n",
    "Medium"
   ]
  },
  {
   "cell_type": "code",
   "execution_count": null,
   "metadata": {},
   "outputs": [],
   "source": [
    "class Solution:\n",
    "    def maxArea(self, height: List[int]) -> int:\n",
    "        left, right = 0, len(height) - 1\n",
    "        result = 0\n",
    "\n",
    "        while left < right:\n",
    "            # right - left : 가로길이\n",
    "            # min(height[left], height[right]) : 세로길이\n",
    "            result = max(result, min(height[left], height[right]) * (right - left))\n",
    "\n",
    "            if height[left] < height[right]:\n",
    "                left += 1\n",
    "            elif height[right] <= height[left]:\n",
    "                right -= 1\n",
    "        return result"
   ]
  }
 ],
 "metadata": {
  "kernelspec": {
   "display_name": "Python 3.10.2 64-bit",
   "language": "python",
   "name": "python3"
  },
  "language_info": {
   "name": "python",
   "version": "3.10.2"
  },
  "orig_nbformat": 4,
  "vscode": {
   "interpreter": {
    "hash": "52634da84371cba311ea128a5ea7cdc41ff074b781779e754b270ff9f8153cee"
   }
  }
 },
 "nbformat": 4,
 "nbformat_minor": 2
}
