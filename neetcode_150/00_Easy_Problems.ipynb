{
 "cells": [
  {
   "attachments": {},
   "cell_type": "markdown",
   "metadata": {},
   "source": [
    "# Arrays&Hashing"
   ]
  },
  {
   "attachments": {},
   "cell_type": "markdown",
   "metadata": {},
   "source": [
    "### **217. Contains Duplicate**   \n",
    "Given an integer array nums, return true if any value appears at least twice in the array, and return false if every element is distinct."
   ]
  },
  {
   "cell_type": "code",
   "execution_count": null,
   "metadata": {},
   "outputs": [],
   "source": [
    "class Solution:\n",
    "    def containsDuplicate(self, nums: List[int]) -> bool:\n",
    "        return Counter(nums).most_common(1)[0][1] >=2"
   ]
  },
  {
   "attachments": {},
   "cell_type": "markdown",
   "metadata": {},
   "source": [
    "solution"
   ]
  },
  {
   "cell_type": "code",
   "execution_count": null,
   "metadata": {},
   "outputs": [],
   "source": [
    "class Solution:\n",
    "    def containsDuplicate(self, nums: List[int]) -> bool:\n",
    "        test = set()\n",
    "        for n in nums :\n",
    "            if n in test : return True\n",
    "            else :\n",
    "                test.add(n)\n",
    "        \n",
    "        return False\n",
    "# 시간 복잡도"
   ]
  },
  {
   "attachments": {},
   "cell_type": "markdown",
   "metadata": {},
   "source": [
    "### **1. Two Sum**   \n",
    "Given an array of integers nums and an integer target, return indices of the two numbers such that they add up to target.   \n",
    "You may assume that each input would have exactly one solution, and you may not use the same element twice.   \n",
    "You can return the answer in any order."
   ]
  },
  {
   "cell_type": "code",
   "execution_count": null,
   "metadata": {},
   "outputs": [],
   "source": [
    "class Solution:\n",
    "    def twoSum(self, nums: List[int], target: int) -> List[int]:\n",
    "        end = len(nums)-1\n",
    "        l,r = 0,end\n",
    "\n",
    "        while l < len(nums):\n",
    "            if l==r :\n",
    "                l +=1\n",
    "                r = end\n",
    "            if nums[l]+nums[r] == target :\n",
    "                return [l,r]\n",
    "            r -=1"
   ]
  },
  {
   "attachments": {},
   "cell_type": "markdown",
   "metadata": {},
   "source": [
    "solution"
   ]
  },
  {
   "cell_type": "code",
   "execution_count": null,
   "metadata": {},
   "outputs": [],
   "source": [
    "class Solution:\n",
    "    def twoSum(self, nums: List[int], target: int) -> List[int]:\n",
    "        prevMap = {}  # val -> index\n",
    "\n",
    "        for ind, num in enumerate(nums):\n",
    "            diff = target - num\n",
    "            if diff in prevMap:\n",
    "                return [prevMap[diff], ind]\n",
    "            prevMap[num] = ind"
   ]
  },
  {
   "attachments": {},
   "cell_type": "markdown",
   "metadata": {},
   "source": [
    "### **242. Valid Anagram**   \n",
    "Given two strings s and t, return true if t is an anagram of s, and false otherwise.   \n",
    "An Anagram is a word or phrase formed by rearranging the letters of a different word or phrase, typically using all the original letters exactly once."
   ]
  },
  {
   "cell_type": "code",
   "execution_count": null,
   "metadata": {},
   "outputs": [],
   "source": [
    "class Solution:\n",
    "    def isAnagram(self, s: str, t: str) -> bool:\n",
    "        return Counter(s)==Counter(t)"
   ]
  },
  {
   "attachments": {},
   "cell_type": "markdown",
   "metadata": {},
   "source": [
    "solution"
   ]
  },
  {
   "cell_type": "code",
   "execution_count": null,
   "metadata": {},
   "outputs": [],
   "source": [
    "class Solution:\n",
    "    def isAnagram(self, s: str, t: str) -> bool:\n",
    "        if len(s) != len(t):\n",
    "            return False\n",
    "\n",
    "        countS, countT = {}, {}\n",
    "\n",
    "        for i in range(len(s)):\n",
    "            countS[s[i]] = 1 + countS.get(s[i], 0)\n",
    "            countT[t[i]] = 1 + countT.get(t[i], 0)\n",
    "        return countS == countT"
   ]
  },
  {
   "cell_type": "code",
   "execution_count": null,
   "metadata": {},
   "outputs": [],
   "source": [
    "class Solution:\n",
    "    def isAnagram(self, s: str, t: str) -> bool:\n",
    "        return all(s.count(x) == t.count(x) for x in 'abcdefgijklmnopqrstuvqxyz')"
   ]
  },
  {
   "attachments": {},
   "cell_type": "markdown",
   "metadata": {},
   "source": [
    "> dict.get(key,default=None) 함수   \n",
    "get 메소드의 리턴값은 첫번째 인자인 키의 값   \n",
    "\n",
    "ex) a = {\"banana\":1500,\"apple\":2000}   \n",
    "a.get('banana')   # 1500\n",
    "   \n",
    "   딕셔너리 키에 속하지 않는 매개변수의 경우 None값으로 리턴"
   ]
  },
  {
   "attachments": {},
   "cell_type": "markdown",
   "metadata": {},
   "source": [
    "> all() 함수 : 모든 요소가 True이면, True   \n",
    "> any() 함수 : 하나라도 True이면, True"
   ]
  },
  {
   "attachments": {},
   "cell_type": "markdown",
   "metadata": {},
   "source": [
    "---"
   ]
  },
  {
   "attachments": {},
   "cell_type": "markdown",
   "metadata": {},
   "source": [
    "# Two_Pointers"
   ]
  },
  {
   "attachments": {},
   "cell_type": "markdown",
   "metadata": {},
   "source": [
    "### **125. Valid Palindrome**   \n",
    "A phrase is a palindrome if, after converting all uppercase letters into lowercase letters and removing all non-alphanumeric characters, it reads the same forward and backward. Alphanumeric characters include letters and numbers.\n",
    "Given a string s, return true if it is a palindrome, or false otherwise."
   ]
  },
  {
   "cell_type": "code",
   "execution_count": null,
   "metadata": {},
   "outputs": [],
   "source": [
    "class Solution:\n",
    "    def isPalindrome(self, s: str) -> bool:\n",
    "        s = s.lower()\n",
    "        s = re.sub('[^a-z0-9]','',s)\n",
    "        return s == s[::-1]"
   ]
  },
  {
   "attachments": {},
   "cell_type": "markdown",
   "metadata": {},
   "source": [
    "solution"
   ]
  },
  {
   "cell_type": "code",
   "execution_count": null,
   "metadata": {},
   "outputs": [],
   "source": [
    "class Solution:\n",
    "    def isPalindrome(self, s: str) -> bool:\n",
    "        result =''.join(ch.lower() for ch in s if ch.isalnum())\n",
    "        return result ==result[::-1]"
   ]
  },
  {
   "cell_type": "code",
   "execution_count": null,
   "metadata": {},
   "outputs": [],
   "source": [
    "class Solution:\n",
    "    def isPalindrome(self, s: str) -> bool:\n",
    "        s = ''.join(filter(str.isalnum, s.lower()))\n",
    "        return s == s[::-1]"
   ]
  },
  {
   "attachments": {},
   "cell_type": "markdown",
   "metadata": {},
   "source": [
    "> filter(조건 함수, 순회 가능한 데이터)   \n",
    "- 여러 개의 데이터로 부터 일부의 데이터만 추려낼 때 사용   \n",
    "- list나 tuple을 대상으로 주로 사용하는 함수\n",
    "- return : <filter object at 0x7fd33319dd80>"
   ]
  },
  {
   "attachments": {},
   "cell_type": "markdown",
   "metadata": {},
   "source": [
    "---"
   ]
  },
  {
   "attachments": {},
   "cell_type": "markdown",
   "metadata": {},
   "source": [
    "# Sliding Window"
   ]
  },
  {
   "attachments": {},
   "cell_type": "markdown",
   "metadata": {},
   "source": [
    "### **121. Best Time to Buy and Sell Stock**   \n",
    "You are given an array prices where prices[i] is the price of a given stock on the ith day.    \n",
    "You want to maximize your profit by choosing a single day to buy one stock and choosing a different day in the future to sell that stock.   \n",
    "Return the maximum profit you can achieve from this transaction. If you cannot achieve any profit, return 0."
   ]
  },
  {
   "cell_type": "code",
   "execution_count": null,
   "metadata": {},
   "outputs": [],
   "source": [
    "class Solution:\n",
    "    def maxProfit(self, prices: List[int]) -> int:\n",
    "        result = 0\n",
    "\n",
    "        l = 0\n",
    "        for r in range(1, len(prices)):\n",
    "            if prices[r] < prices[l]:\n",
    "                l = r\n",
    "            result = max(result, prices[r] - prices[l])\n",
    "        return result"
   ]
  },
  {
   "attachments": {},
   "cell_type": "markdown",
   "metadata": {},
   "source": [
    "---"
   ]
  },
  {
   "attachments": {},
   "cell_type": "markdown",
   "metadata": {},
   "source": [
    "# Stack"
   ]
  },
  {
   "attachments": {},
   "cell_type": "markdown",
   "metadata": {},
   "source": [
    "### **20. Valid Parentheses**"
   ]
  },
  {
   "cell_type": "code",
   "execution_count": null,
   "metadata": {},
   "outputs": [],
   "source": [
    "class Solution:\n",
    "    def isValid(self, s: str) -> bool:\n",
    "        test_dic = {')':'(', ']':'[','}':'{'}\n",
    "\n",
    "        result = []\n",
    "        for ch in s:\n",
    "            if ch not in test_dic:\n",
    "                result.append(ch)\n",
    "            elif not result or test_dic[ch] != result.pop() :\n",
    "                return False\n",
    "        return not result"
   ]
  }
 ],
 "metadata": {
  "kernelspec": {
   "display_name": "Python 3",
   "language": "python",
   "name": "python3"
  },
  "language_info": {
   "name": "python",
   "version": "3.10.2 (tags/v3.10.2:a58ebcc, Jan 17 2022, 14:12:15) [MSC v.1929 64 bit (AMD64)]"
  },
  "orig_nbformat": 4,
  "vscode": {
   "interpreter": {
    "hash": "52634da84371cba311ea128a5ea7cdc41ff074b781779e754b270ff9f8153cee"
   }
  }
 },
 "nbformat": 4,
 "nbformat_minor": 2
}
